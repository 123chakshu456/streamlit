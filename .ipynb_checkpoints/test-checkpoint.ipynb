{
 "cells": [
  {
   "cell_type": "code",
   "execution_count": 4,
   "metadata": {},
   "outputs": [
    {
     "name": "stdout",
     "output_type": "stream",
     "text": [
      "      original_publish_year\n",
      "2003                     23\n",
      "2005                     20\n",
      "1996                     17\n",
      "2001                     16\n",
      "2000                     14\n",
      "1995                     13\n",
      "1988                     13\n",
      "2012                     13\n",
      "2006                     13\n",
      "1997                     12\n",
      "1989                     12\n",
      "1998                     11\n",
      "1987                     10\n",
      "1985                     10\n",
      "2002                     10\n",
      "1961                      9\n",
      "1992                      9\n",
      "1962                      9\n",
      "1982                      9\n",
      "1974                      9\n",
      "1993                      9\n",
      "1999                      9\n",
      "1994                      9\n",
      "1959                      8\n",
      "1971                      8\n",
      "1958                      8\n",
      "1955                      8\n",
      "1969                      8\n",
      "1949                      8\n",
      "1977                      7\n",
      "1984                      7\n",
      "2014                      7\n",
      "1952                      7\n",
      "1990                      7\n",
      "2007                      7\n",
      "1979                      7\n",
      "1956                      6\n",
      "1957                      6\n",
      "1947                      6\n",
      "1945                      6\n",
      "1929                      6\n",
      "1976                      6\n",
      "1991                      6\n",
      "1986                      6\n",
      "1980                      6\n",
      "2009                      6\n",
      "2004                      6\n",
      "1978                      5\n",
      "1938                      5\n"
     ]
    }
   ],
   "source": [
    "import streamlit as st\n",
    "import pandas as pd\n",
    "from PIL import Image\n",
    "    \n",
    "\n",
    "\n",
    "\n",
    "df = pd.read_csv('Books_universe.csv')\n",
    "with media:\n",
    "    st.subheader('Book Release:')\n",
    "    pup = pd.DataFrame(df['original_publish_year'].value_counts()).head(50)\n",
    "    a = pup[1::]\n",
    "    #st.bar_chart(pup)\n",
    "    #st.markdown(''' The most books got published in 2003.  ''')\n",
    "    print(a)\n",
    "        \n",
    "        "
   ]
  }
 ],
 "metadata": {
  "kernelspec": {
   "display_name": "Python 3",
   "language": "python",
   "name": "python3"
  },
  "language_info": {
   "codemirror_mode": {
    "name": "ipython",
    "version": 3
   },
   "file_extension": ".py",
   "mimetype": "text/x-python",
   "name": "python",
   "nbconvert_exporter": "python",
   "pygments_lexer": "ipython3",
   "version": "3.8.5"
  }
 },
 "nbformat": 4,
 "nbformat_minor": 4
}
